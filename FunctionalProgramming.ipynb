{
 "cells": [
  {
   "cell_type": "markdown",
   "metadata": {},
   "source": [
    "# Functional Programming with Python\n",
    "\n",
    "## incomplete primer for FP\n",
    "\n",
    "___\n",
    " *Functional programming is a programming paradigm where programs are construted by applying and composing functions* - Wikipedia\n",
    "\n",
    " How does python support it?\n",
    "\n",
    " * **lambda functions**\n",
    " * **Immutable Data Structures**\n",
    "\n",
    " * **Higer Order Functions for FP (Python primitives)**\n",
    "\n",
    "     * **Filter**\n",
    "     * **List Comprehensions**\n",
    "     * **Map**\n",
    "     * **Reduce**\n",
    "    \n",
    " \n",
    " Let's start from the begining\n",
    "\n",
    " \n",
    "## Lambda Functions\n",
    "---\n",
    "\n",
    " A lambda expression is an anonymous function. \n",
    "\n",
    " Instead of using the keyword ***def*** we create the function directly, by using the keyword ***lambda***.\n",
    "\n",
    " The expression begins with **lambda** followed by the inpunt argument and then the expression to be executed \"on the fly\".\n",
    "    \n",
    " See this basic example:\n"
   ]
  },
  {
   "cell_type": "code",
   "execution_count": 269,
   "metadata": {},
   "outputs": [
    {
     "data": {
      "text/plain": [
       "9"
      ]
     },
     "execution_count": 269,
     "metadata": {},
     "output_type": "execute_result"
    }
   ],
   "source": [
    "# this is a named function\n",
    "\n",
    "def func(input):\n",
    "    return input + 1\n",
    "\n",
    "func(8)\n"
   ]
  },
  {
   "cell_type": "code",
   "execution_count": 270,
   "metadata": {},
   "outputs": [
    {
     "data": {
      "text/plain": [
       "9"
      ]
     },
     "execution_count": 270,
     "metadata": {},
     "output_type": "execute_result"
    }
   ],
   "source": [
    "# behaves like this one  using lambda expression\n",
    "\n",
    "func = lambda input: input + 1\n",
    "\n",
    "func(8)\n"
   ]
  },
  {
   "cell_type": "markdown",
   "metadata": {},
   "source": [
    "which is the same as  "
   ]
  },
  {
   "cell_type": "markdown",
   "metadata": {},
   "source": [
    "\n",
    "(lambda input: input + 1)(8)\n",
    "\n",
    "func(10)"
   ]
  },
  {
   "cell_type": "markdown",
   "metadata": {},
   "source": [
    " \n",
    " Lambda expressions are frequently used in Higher Order Functions\n"
   ]
  },
  {
   "cell_type": "markdown",
   "metadata": {},
   "source": [
    "## Immutable data Structure\n",
    "---\n",
    "Functional programming relies on inmutable objects. Python named tuples is a popular way to achive that goal.\n",
    "\n",
    "Here is an example using a list of Cryptocurrencies, with a flag if it is altcoin or not:\n",
    "\n",
    "price date | rank | symbol | Name    | price   | is altcoin? | portfolio\n",
    ":-----------|------|:-------:|---------|---------:|-------------|----:|\n",
    "10-01-2021|1 |BTC | Bitcoin | 38,356.00 |False    |1\n",
    "10-01-2021|2 |ETH |Ethereum | 1,262.00  | True    |2\n",
    "10-01-2021|3 |USDT|Tether   | 1.00   | False   |3\n",
    "10-01-2021|4 |XRP |XRP      | 0.3183 | True    |1\n",
    "10-01-2021|5 |LTC |Litecoin | 171.11 | True    |2\n",
    "10-01-2021|6 |BCH |Bitcoin  | 603.60 | True    |3\n",
    "10-01-2021|7 |ADA |Cardano  | 0.3049 | True    |54\n",
    "10-01-2021|8 |DOT |Polkadot | 9.31   | True    |6\n",
    "10-01-2021|9 |LINK|Chainlin | 16.25  | True    |1\n",
    "10-01-2021|10|XLM |Stellar  | 0.2887 | True    |100\n",
    "14-02-2021|1 |BTC |Bitcoin  | 48,717.00  | False   |2\n",
    "14-02-2021|2 |ETH |Ethereum | 1,805.00   | True    |10\n",
    "14-02-2021|3 |USDT|Tether   | 1.00   | False   |2\n",
    "14-02-2021|4 |XRP |XRP      | 0.5942 | True    |300\n",
    "14-02-2021|5 |ADA |Cardano  | 0.8484 | True    |231\n",
    "14-02-2021|6 |DOT |Polkadot | 27.10  | True    |21\n",
    "14-02-2021|8 |LTC |Litecoin | 214.43 | True    |2\n",
    "14-02-2021|9 |LINK|Chainlin | 33.29  | True    |33\n",
    "14-02-2021|10|BCH |Bitcoin  | 724.60 | True    |1\n",
    "14-02-2021|11|XLM |Stellar  | 0.5176 | True    |100\n",
    "\n",
    "    Converted into named tuple object:\n",
    "\n"
   ]
  },
  {
   "cell_type": "code",
   "execution_count": 497,
   "metadata": {},
   "outputs": [],
   "source": [
    "import collections\n",
    "Crypto=collections.namedtuple('Crypto',[\n",
    "        'rank',\n",
    "        'name',\n",
    "        'symbol',\n",
    "        'price_date',\n",
    "        'price',\n",
    "        'altcoin',\n",
    "        'portfolio'\n",
    "])\n",
    "\n",
    "cryptos=(\n",
    "    Crypto(price_date='10-01-2021',rank=1,  symbol='BTC', name='Bitcoin',     portfolio=1  ,price=38356, altcoin=False),\n",
    "    Crypto(price_date='10-01-2021',rank=2,  symbol='ETH', name='Ethereum',    portfolio=2  ,price=1262, altcoin=True),\n",
    "    Crypto(price_date='10-01-2021',rank=3,  symbol='USDT',name='Tether',      portfolio=3  ,price=1.00, altcoin=False),\n",
    "    Crypto(price_date='10-01-2021',rank=4,  symbol='XRP', name='XRP',         portfolio=1  ,price=0.3183, altcoin=True),\n",
    "    Crypto(price_date='10-01-2021',rank=5,  symbol='LTC', name='Litecoin',    portfolio=2  ,price=171.11, altcoin=True),\n",
    "    Crypto(price_date='10-01-2021',rank=6,  symbol='BCH', name='Bitcoin Cash',portfolio=3  ,price=603.60, altcoin=True),\n",
    "    Crypto(price_date='10-01-2021',rank=7,  symbol='ADA', name='Cardano',     portfolio=54 ,price=0.3049, altcoin=True),\n",
    "    Crypto(price_date='10-01-2021',rank=8,  symbol='DOT', name='Polkadot',    portfolio=6  ,price=9.31, altcoin=True),\n",
    "    Crypto(price_date='10-01-2021',rank=9,  symbol='LINK',name='Chainlink',   portfolio=1  ,price=16.25, altcoin=True),\n",
    "    Crypto(price_date='10-01-2021',rank=10, symbol='XLM', name='Stellar',     portfolio=100,price=0.2887, altcoin=True),\n",
    "    Crypto(price_date='14-02-2021',rank=1,  symbol='BTC', name='Bitcoin',     portfolio=2  ,price=48717, altcoin=False),\n",
    "    Crypto(price_date='14-02-2021',rank=2,  symbol='ETH', name='Ethereum',    portfolio=10  ,price=1805, altcoin=True),\n",
    "    Crypto(price_date='14-02-2021',rank=3,  symbol='USDT',name='Tether',      portfolio=2   ,price=1.00, altcoin=False),\n",
    "    Crypto(price_date='14-02-2021',rank=4,  symbol='XRP', name='XRP',         portfolio=300 ,price=0.5942, altcoin=True),\n",
    "    Crypto(price_date='14-02-2021',rank=5,  symbol='ADA', name='Cardano',     portfolio=231 ,price=0.8484, altcoin=True),\n",
    "    Crypto(price_date='14-02-2021',rank=6,  symbol='DOT', name='Polkadot',    portfolio=21  ,price=27.10, altcoin=True),\n",
    "    Crypto(price_date='14-02-2021',rank=8,  symbol='LTC', name='Litecoin',    portfolio=2   ,price=214.43, altcoin=True),\n",
    "    Crypto(price_date='14-02-2021',rank=9,  symbol='LINK',name='Chainlink',   portfolio=33  ,price=33.29, altcoin=True),\n",
    "    Crypto(price_date='14-02-2021',rank=10, symbol='BCH', name='Bitcoin Cash',portfolio=1   ,price=724.60, altcoin=True),\n",
    "    Crypto(price_date='14-02-2021',rank=11, symbol='XLM', name='Stellar',     portfolio=100 ,price=0.5176, altcoin=True)\n",
    ")\n"
   ]
  },
  {
   "cell_type": "markdown",
   "metadata": {},
   "source": [
    "\n",
    "    pretty printing the tuple\n"
   ]
  },
  {
   "cell_type": "code",
   "execution_count": 498,
   "metadata": {},
   "outputs": [
    {
     "name": "stdout",
     "output_type": "stream",
     "text": [
      "(Crypto(rank=1, name='Bitcoin', symbol='BTC', price_date='10-01-2021', price=38356, altcoin=False, portfolio=1),\n",
      " Crypto(rank=2, name='Ethereum', symbol='ETH', price_date='10-01-2021', price=1262, altcoin=True, portfolio=2),\n",
      " Crypto(rank=3, name='Tether', symbol='USDT', price_date='10-01-2021', price=1.0, altcoin=False, portfolio=3),\n",
      " Crypto(rank=4, name='XRP', symbol='XRP', price_date='10-01-2021', price=0.3183, altcoin=True, portfolio=1),\n",
      " Crypto(rank=5, name='Litecoin', symbol='LTC', price_date='10-01-2021', price=171.11, altcoin=True, portfolio=2),\n",
      " Crypto(rank=6, name='Bitcoin Cash', symbol='BCH', price_date='10-01-2021', price=603.6, altcoin=True, portfolio=3),\n",
      " Crypto(rank=7, name='Cardano', symbol='ADA', price_date='10-01-2021', price=0.3049, altcoin=True, portfolio=54),\n",
      " Crypto(rank=8, name='Polkadot', symbol='DOT', price_date='10-01-2021', price=9.31, altcoin=True, portfolio=6),\n",
      " Crypto(rank=9, name='Chainlink', symbol='LINK', price_date='10-01-2021', price=16.25, altcoin=True, portfolio=1),\n",
      " Crypto(rank=10, name='Stellar', symbol='XLM', price_date='10-01-2021', price=0.2887, altcoin=True, portfolio=100),\n",
      " Crypto(rank=1, name='Bitcoin', symbol='BTC', price_date='14-02-2021', price=48717, altcoin=False, portfolio=2),\n",
      " Crypto(rank=2, name='Ethereum', symbol='ETH', price_date='14-02-2021', price=1805, altcoin=True, portfolio=10),\n",
      " Crypto(rank=3, name='Tether', symbol='USDT', price_date='14-02-2021', price=1.0, altcoin=False, portfolio=2),\n",
      " Crypto(rank=4, name='XRP', symbol='XRP', price_date='14-02-2021', price=0.5942, altcoin=True, portfolio=300),\n",
      " Crypto(rank=5, name='Cardano', symbol='ADA', price_date='14-02-2021', price=0.8484, altcoin=True, portfolio=231),\n",
      " Crypto(rank=6, name='Polkadot', symbol='DOT', price_date='14-02-2021', price=27.1, altcoin=True, portfolio=21),\n",
      " Crypto(rank=8, name='Litecoin', symbol='LTC', price_date='14-02-2021', price=214.43, altcoin=True, portfolio=2),\n",
      " Crypto(rank=9, name='Chainlink', symbol='LINK', price_date='14-02-2021', price=33.29, altcoin=True, portfolio=33),\n",
      " Crypto(rank=10, name='Bitcoin Cash', symbol='BCH', price_date='14-02-2021', price=724.6, altcoin=True, portfolio=1),\n",
      " Crypto(rank=11, name='Stellar', symbol='XLM', price_date='14-02-2021', price=0.5176, altcoin=True, portfolio=100))\n"
     ]
    }
   ],
   "source": [
    "from pprint import pprint\n",
    "\n",
    "pprint(cryptos)"
   ]
  },
  {
   "cell_type": "markdown",
   "metadata": {},
   "source": [
    "\n",
    "\n",
    "**Of course, we can iterated with a for loop**\n",
    "\n"
   ]
  },
  {
   "cell_type": "code",
   "execution_count": 499,
   "metadata": {},
   "outputs": [
    {
     "name": "stdout",
     "output_type": "stream",
     "text": [
      "Bitcoin , BTC , 10-01-2021\n",
      "Ethereum , ETH , 10-01-2021\n",
      "Tether , USDT , 10-01-2021\n",
      "XRP , XRP , 10-01-2021\n",
      "Litecoin , LTC , 10-01-2021\n",
      "Bitcoin Cash , BCH , 10-01-2021\n",
      "Cardano , ADA , 10-01-2021\n",
      "Polkadot , DOT , 10-01-2021\n",
      "Chainlink , LINK , 10-01-2021\n",
      "Stellar , XLM , 10-01-2021\n",
      "Bitcoin , BTC , 14-02-2021\n",
      "Ethereum , ETH , 14-02-2021\n",
      "Tether , USDT , 14-02-2021\n",
      "XRP , XRP , 14-02-2021\n",
      "Cardano , ADA , 14-02-2021\n",
      "Polkadot , DOT , 14-02-2021\n",
      "Litecoin , LTC , 14-02-2021\n",
      "Chainlink , LINK , 14-02-2021\n",
      "Bitcoin Cash , BCH , 14-02-2021\n",
      "Stellar , XLM , 14-02-2021\n"
     ]
    }
   ],
   "source": [
    "for crypto in cryptos:\n",
    "    print(f'{crypto.name} , {crypto.symbol} , {crypto.price_date}')"
   ]
  },
  {
   "cell_type": "markdown",
   "metadata": {},
   "source": [
    "\n",
    "\n",
    "    This result is OK but ugly, plus we are exploring Functional Programming and we are going to loose points by using an imperative *for loop* instruction,  so instead let's go for the first FP primitive:\n",
    "\n",
    "\n",
    "## Functional Programming Primitives \n",
    "### The filter() Function\n",
    "---\n",
    "\n",
    "    The filter function runs over an iterable element, testing each element with a given function that will be evaluated to either True or False. \n",
    "\n",
    "    The filter function will return an iterable with only those elements evaluated as True.\n"
   ]
  },
  {
   "cell_type": "code",
   "execution_count": 500,
   "metadata": {},
   "outputs": [
    {
     "name": "stdout",
     "output_type": "stream",
     "text": [
      "<filter object at 0x7fa97b506610>\n"
     ]
    }
   ],
   "source": [
    "altcoins = filter(lambda x: x.altcoin is True, cryptos)\n",
    "print(altcoins)"
   ]
  },
  {
   "cell_type": "markdown",
   "metadata": {},
   "source": [
    "\n",
    "    \"altcoins\" is an iterable, we can get its value by next(altcoins)\n"
   ]
  },
  {
   "cell_type": "code",
   "execution_count": 501,
   "metadata": {},
   "outputs": [
    {
     "data": {
      "text/plain": [
       "Crypto(rank=2, name='Ethereum', symbol='ETH', price_date='10-01-2021', price=1262, altcoin=True, portfolio=2)"
      ]
     },
     "execution_count": 501,
     "metadata": {},
     "output_type": "execute_result"
    }
   ],
   "source": [
    "next(altcoins)"
   ]
  },
  {
   "cell_type": "code",
   "execution_count": 502,
   "metadata": {},
   "outputs": [
    {
     "data": {
      "text/plain": [
       "Crypto(rank=4, name='XRP', symbol='XRP', price_date='10-01-2021', price=0.3183, altcoin=True, portfolio=1)"
      ]
     },
     "execution_count": 502,
     "metadata": {},
     "output_type": "execute_result"
    }
   ],
   "source": [
    "next(altcoins)"
   ]
  },
  {
   "cell_type": "markdown",
   "metadata": {},
   "source": [
    "\n",
    "    Also, the results could be stored as tuple, which are inmutable\n"
   ]
  },
  {
   "cell_type": "code",
   "execution_count": 503,
   "metadata": {},
   "outputs": [
    {
     "name": "stdout",
     "output_type": "stream",
     "text": [
      "(Crypto(rank=2, name='Ethereum', symbol='ETH', price_date='10-01-2021', price=1262, altcoin=True, portfolio=2),\n",
      " Crypto(rank=4, name='XRP', symbol='XRP', price_date='10-01-2021', price=0.3183, altcoin=True, portfolio=1),\n",
      " Crypto(rank=5, name='Litecoin', symbol='LTC', price_date='10-01-2021', price=171.11, altcoin=True, portfolio=2),\n",
      " Crypto(rank=6, name='Bitcoin Cash', symbol='BCH', price_date='10-01-2021', price=603.6, altcoin=True, portfolio=3),\n",
      " Crypto(rank=7, name='Cardano', symbol='ADA', price_date='10-01-2021', price=0.3049, altcoin=True, portfolio=54),\n",
      " Crypto(rank=8, name='Polkadot', symbol='DOT', price_date='10-01-2021', price=9.31, altcoin=True, portfolio=6),\n",
      " Crypto(rank=9, name='Chainlink', symbol='LINK', price_date='10-01-2021', price=16.25, altcoin=True, portfolio=1),\n",
      " Crypto(rank=10, name='Stellar', symbol='XLM', price_date='10-01-2021', price=0.2887, altcoin=True, portfolio=100),\n",
      " Crypto(rank=2, name='Ethereum', symbol='ETH', price_date='14-02-2021', price=1805, altcoin=True, portfolio=10),\n",
      " Crypto(rank=4, name='XRP', symbol='XRP', price_date='14-02-2021', price=0.5942, altcoin=True, portfolio=300),\n",
      " Crypto(rank=5, name='Cardano', symbol='ADA', price_date='14-02-2021', price=0.8484, altcoin=True, portfolio=231),\n",
      " Crypto(rank=6, name='Polkadot', symbol='DOT', price_date='14-02-2021', price=27.1, altcoin=True, portfolio=21),\n",
      " Crypto(rank=8, name='Litecoin', symbol='LTC', price_date='14-02-2021', price=214.43, altcoin=True, portfolio=2),\n",
      " Crypto(rank=9, name='Chainlink', symbol='LINK', price_date='14-02-2021', price=33.29, altcoin=True, portfolio=33),\n",
      " Crypto(rank=10, name='Bitcoin Cash', symbol='BCH', price_date='14-02-2021', price=724.6, altcoin=True, portfolio=1),\n",
      " Crypto(rank=11, name='Stellar', symbol='XLM', price_date='14-02-2021', price=0.5176, altcoin=True, portfolio=100))\n"
     ]
    }
   ],
   "source": [
    "altcoins = tuple(filter(lambda x: x.altcoin is True, cryptos))\n",
    "pprint(altcoins)"
   ]
  },
  {
   "cell_type": "markdown",
   "metadata": {},
   "source": [
    "\n",
    "    we could add more conditions to the filter function\n"
   ]
  },
  {
   "cell_type": "code",
   "execution_count": 504,
   "metadata": {},
   "outputs": [
    {
     "name": "stdout",
     "output_type": "stream",
     "text": [
      "(Crypto(rank=2, name='Ethereum', symbol='ETH', price_date='10-01-2021', price=1262, altcoin=True, portfolio=2),\n",
      " Crypto(rank=4, name='XRP', symbol='XRP', price_date='10-01-2021', price=0.3183, altcoin=True, portfolio=1),\n",
      " Crypto(rank=5, name='Litecoin', symbol='LTC', price_date='10-01-2021', price=171.11, altcoin=True, portfolio=2),\n",
      " Crypto(rank=6, name='Bitcoin Cash', symbol='BCH', price_date='10-01-2021', price=603.6, altcoin=True, portfolio=3),\n",
      " Crypto(rank=7, name='Cardano', symbol='ADA', price_date='10-01-2021', price=0.3049, altcoin=True, portfolio=54),\n",
      " Crypto(rank=8, name='Polkadot', symbol='DOT', price_date='10-01-2021', price=9.31, altcoin=True, portfolio=6),\n",
      " Crypto(rank=9, name='Chainlink', symbol='LINK', price_date='10-01-2021', price=16.25, altcoin=True, portfolio=1),\n",
      " Crypto(rank=10, name='Stellar', symbol='XLM', price_date='10-01-2021', price=0.2887, altcoin=True, portfolio=100))\n"
     ]
    }
   ],
   "source": [
    "\n",
    "coins_last_date = tuple(filter(lambda x: x.altcoin is True and x.price_date=='10-01-2021' , cryptos))\n",
    "pprint(coins_last_date)\n"
   ]
  },
  {
   "cell_type": "markdown",
   "metadata": {},
   "source": [
    "\n",
    "    even and more restrictive\n"
   ]
  },
  {
   "cell_type": "code",
   "execution_count": 505,
   "metadata": {},
   "outputs": [
    {
     "name": "stdout",
     "output_type": "stream",
     "text": [
      "(Crypto(rank=2, name='Ethereum', symbol='ETH', price_date='10-01-2021', price=1262, altcoin=True, portfolio=2),\n",
      " Crypto(rank=4, name='XRP', symbol='XRP', price_date='10-01-2021', price=0.3183, altcoin=True, portfolio=1),\n",
      " Crypto(rank=5, name='Litecoin', symbol='LTC', price_date='10-01-2021', price=171.11, altcoin=True, portfolio=2),\n",
      " Crypto(rank=6, name='Bitcoin Cash', symbol='BCH', price_date='10-01-2021', price=603.6, altcoin=True, portfolio=3),\n",
      " Crypto(rank=7, name='Cardano', symbol='ADA', price_date='10-01-2021', price=0.3049, altcoin=True, portfolio=54),\n",
      " Crypto(rank=8, name='Polkadot', symbol='DOT', price_date='10-01-2021', price=9.31, altcoin=True, portfolio=6),\n",
      " Crypto(rank=9, name='Chainlink', symbol='LINK', price_date='10-01-2021', price=16.25, altcoin=True, portfolio=1),\n",
      " Crypto(rank=10, name='Stellar', symbol='XLM', price_date='10-01-2021', price=0.2887, altcoin=True, portfolio=100))\n"
     ]
    }
   ],
   "source": [
    "\n",
    "top_coins = tuple(filter(lambda x: x.rank < 6 and x.price_date=='10-01-2021' and x.altcoin , cryptos))\n",
    "pprint(coins_last_date)\n"
   ]
  },
  {
   "cell_type": "markdown",
   "metadata": {},
   "source": [
    "\n",
    "    also, we could use replace our lambda for a named function, to get a better expressive function\n"
   ]
  },
  {
   "cell_type": "code",
   "execution_count": 506,
   "metadata": {},
   "outputs": [
    {
     "name": "stdout",
     "output_type": "stream",
     "text": [
      "(Crypto(rank=2, name='Ethereum', symbol='ETH', price_date='10-01-2021', price=1262, altcoin=True, portfolio=2),\n",
      " Crypto(rank=4, name='XRP', symbol='XRP', price_date='10-01-2021', price=0.3183, altcoin=True, portfolio=1),\n",
      " Crypto(rank=5, name='Litecoin', symbol='LTC', price_date='10-01-2021', price=171.11, altcoin=True, portfolio=2),\n",
      " Crypto(rank=6, name='Bitcoin Cash', symbol='BCH', price_date='10-01-2021', price=603.6, altcoin=True, portfolio=3),\n",
      " Crypto(rank=7, name='Cardano', symbol='ADA', price_date='10-01-2021', price=0.3049, altcoin=True, portfolio=54),\n",
      " Crypto(rank=8, name='Polkadot', symbol='DOT', price_date='10-01-2021', price=9.31, altcoin=True, portfolio=6),\n",
      " Crypto(rank=9, name='Chainlink', symbol='LINK', price_date='10-01-2021', price=16.25, altcoin=True, portfolio=1),\n",
      " Crypto(rank=10, name='Stellar', symbol='XLM', price_date='10-01-2021', price=0.2887, altcoin=True, portfolio=100))\n"
     ]
    }
   ],
   "source": [
    "# labeling the filter \n",
    "top_coins_filter = lambda x: x.rank < 6 and x.price_date=='10-01-2021' and x.altcoin \n",
    "\n",
    "# then using it with the filter function!\n",
    "top_coins = tuple(filter(top_coins_filter , cryptos))\n",
    "\n",
    "pprint(coins_last_date)"
   ]
  },
  {
   "cell_type": "markdown",
   "metadata": {},
   "source": [
    "\n",
    "    well, there is a more \"pythonic\" way to create that filter function, and this is for what we use the List Comprehensions\n",
    "\n",
    "## List Comprehensions\n",
    "---\n",
    "\n",
    "this is a feature that (according to what I have read) appears frequently in Functional Programming Languages. \n",
    "\n",
    "    Let's see how it could be used in this case (note the type).\n"
   ]
  },
  {
   "cell_type": "code",
   "execution_count": 507,
   "metadata": {},
   "outputs": [
    {
     "name": "stdout",
     "output_type": "stream",
     "text": [
      "[Crypto(rank=2, name='Ethereum', symbol='ETH', price_date='10-01-2021', price=1262, altcoin=True, portfolio=2),\n",
      " Crypto(rank=4, name='XRP', symbol='XRP', price_date='10-01-2021', price=0.3183, altcoin=True, portfolio=1),\n",
      " Crypto(rank=5, name='Litecoin', symbol='LTC', price_date='10-01-2021', price=171.11, altcoin=True, portfolio=2)]\n"
     ]
    },
    {
     "data": {
      "text/plain": [
       "<class 'list'>"
      ]
     },
     "execution_count": 507,
     "metadata": {},
     "output_type": "execute_result"
    }
   ],
   "source": [
    "\n",
    "top_coins_list = [x for x in cryptos if x.rank <6 and x.price_date == '10-01-2021' and x.altcoin ]\n",
    "pprint(top_coins_list)\n",
    "type(top_coins_list)\n"
   ]
  },
  {
   "cell_type": "markdown",
   "metadata": {},
   "source": [
    "\n",
    "    of course, it can be rendered as a tuple (again, note the type)\n",
    "    \n"
   ]
  },
  {
   "cell_type": "code",
   "execution_count": 508,
   "metadata": {},
   "outputs": [
    {
     "name": "stdout",
     "output_type": "stream",
     "text": [
      "(Crypto(rank=2, name='Ethereum', symbol='ETH', price_date='10-01-2021', price=1262, altcoin=True, portfolio=2),\n",
      " Crypto(rank=4, name='XRP', symbol='XRP', price_date='10-01-2021', price=0.3183, altcoin=True, portfolio=1),\n",
      " Crypto(rank=5, name='Litecoin', symbol='LTC', price_date='10-01-2021', price=171.11, altcoin=True, portfolio=2))\n"
     ]
    },
    {
     "data": {
      "text/plain": [
       "<class 'tuple'>"
      ]
     },
     "execution_count": 508,
     "metadata": {},
     "output_type": "execute_result"
    }
   ],
   "source": [
    "\n",
    "top_coins_tuple = tuple([x for x in cryptos if x.rank <6 and x.price_date == '10-01-2021' and x.altcoin ])\n",
    "pprint(top_coins_tuple)\n",
    "type(top_coins_tuple)\n"
   ]
  },
  {
   "cell_type": "markdown",
   "metadata": {},
   "source": [
    "\n",
    "    This is nice! but what about making this list a generator and save memory? \n",
    "    This can be done by NO using the brackets, bypassing the creation of the list\n"
   ]
  },
  {
   "cell_type": "code",
   "execution_count": 509,
   "metadata": {},
   "outputs": [
    {
     "name": "stdout",
     "output_type": "stream",
     "text": [
      "<generator object <genexpr> at 0x7fa97b1a0950>\n"
     ]
    },
    {
     "data": {
      "text/plain": [
       "<class 'generator'>"
      ]
     },
     "execution_count": 509,
     "metadata": {},
     "output_type": "execute_result"
    }
   ],
   "source": [
    "\n",
    "top_coins_generator = (x for x in cryptos if x.rank <6 and x.price_date == '10-01-2021' and x.altcoin)\n",
    "pprint(top_coins_generator)\n",
    "type(top_coins_generator)\n"
   ]
  },
  {
   "cell_type": "code",
   "execution_count": 510,
   "metadata": {},
   "outputs": [
    {
     "data": {
      "text/plain": [
       "Crypto(rank=2, name='Ethereum', symbol='ETH', price_date='10-01-2021', price=1262, altcoin=True, portfolio=2)"
      ]
     },
     "execution_count": 510,
     "metadata": {},
     "output_type": "execute_result"
    }
   ],
   "source": [
    "next(top_coins_generator)"
   ]
  },
  {
   "cell_type": "code",
   "execution_count": 511,
   "metadata": {},
   "outputs": [
    {
     "data": {
      "text/plain": [
       "Crypto(rank=4, name='XRP', symbol='XRP', price_date='10-01-2021', price=0.3183, altcoin=True, portfolio=1)"
      ]
     },
     "execution_count": 511,
     "metadata": {},
     "output_type": "execute_result"
    }
   ],
   "source": [
    "next(top_coins_generator)"
   ]
  },
  {
   "cell_type": "code",
   "execution_count": 512,
   "metadata": {},
   "outputs": [
    {
     "data": {
      "text/plain": [
       "Crypto(rank=5, name='Litecoin', symbol='LTC', price_date='10-01-2021', price=171.11, altcoin=True, portfolio=2)"
      ]
     },
     "execution_count": 512,
     "metadata": {},
     "output_type": "execute_result"
    }
   ],
   "source": [
    "next(top_coins_generator)"
   ]
  },
  {
   "cell_type": "markdown",
   "metadata": {},
   "source": [
    "\n",
    "    whit this in mind, we can start working with maps!\n",
    "\n",
    "## the map Function\n",
    "---\n",
    "map(func, *iterables) --> map object\n",
    "\n",
    "*Make an iterator that computes the function using arguments from each of the iterables. Stops when the shortest iterable is exhausted* \n",
    "\n",
    "super clear :-)\n",
    "\n",
    "Let's use the map function to get the exchange rate for each cryptocurrency to Ethereum's value at 14-02-2021 ($1805)\n"
   ]
  },
  {
   "cell_type": "code",
   "execution_count": 513,
   "metadata": {},
   "outputs": [
    {
     "name": "stdout",
     "output_type": "stream",
     "text": [
      "(('Bitcoin', 'BTC', 21.2499),\n",
      " ('Ethereum', 'ETH', 0.6992),\n",
      " ('Tether', 'USDT', 0.0006),\n",
      " ('XRP', 'XRP', 0.0002),\n",
      " ('Litecoin', 'LTC', 0.0948),\n",
      " ('Bitcoin Cash', 'BCH', 0.3344),\n",
      " ('Cardano', 'ADA', 0.0002),\n",
      " ('Polkadot', 'DOT', 0.0052),\n",
      " ('Chainlink', 'LINK', 0.009),\n",
      " ('Stellar', 'XLM', 0.0002),\n",
      " ('Bitcoin', 'BTC', 26.99),\n",
      " ('Ethereum', 'ETH', 1.0),\n",
      " ('Tether', 'USDT', 0.0006),\n",
      " ('XRP', 'XRP', 0.0003),\n",
      " ('Cardano', 'ADA', 0.0005),\n",
      " ('Polkadot', 'DOT', 0.015),\n",
      " ('Litecoin', 'LTC', 0.1188),\n",
      " ('Chainlink', 'LINK', 0.0184),\n",
      " ('Bitcoin Cash', 'BCH', 0.4014),\n",
      " ('Stellar', 'XLM', 0.0003))\n"
     ]
    }
   ],
   "source": [
    "\n",
    "eth_value = 1805.00\n",
    "exchange_rate_eth =map(lambda x:(x.name, x.symbol, round(x.price/eth_value,4)), cryptos)\n",
    "\n",
    "pprint(tuple(exchange_rate_eth))\n"
   ]
  },
  {
   "cell_type": "markdown",
   "metadata": {},
   "source": [
    "\n",
    "    so, what if we want to apply the exchange rate only to the currencies value on Feb 14, 2021? this will make more sense, as the value of ETH is from that very date. For that, we can use map and filter together.\n"
   ]
  },
  {
   "cell_type": "code",
   "execution_count": 514,
   "metadata": {},
   "outputs": [
    {
     "name": "stdout",
     "output_type": "stream",
     "text": [
      "(('Bitcoin', 'BTC', 26.99),\n",
      " ('Ethereum', 'ETH', 1.0),\n",
      " ('Tether', 'USDT', 0.0006),\n",
      " ('XRP', 'XRP', 0.0003),\n",
      " ('Cardano', 'ADA', 0.0005),\n",
      " ('Polkadot', 'DOT', 0.015),\n",
      " ('Litecoin', 'LTC', 0.1188),\n",
      " ('Chainlink', 'LINK', 0.0184),\n",
      " ('Bitcoin Cash', 'BCH', 0.4014),\n",
      " ('Stellar', 'XLM', 0.0003))\n"
     ]
    }
   ],
   "source": [
    "exchange_rate = map(\n",
    "                    lambda x:(x.name, x.symbol, round(x.price/eth_value,4)), \n",
    "                    filter(\n",
    "                            lambda x: x.price_date=='14-02-2021',\n",
    "                            cryptos))\n",
    "\n",
    "pprint(tuple(exchange_rate))\n"
   ]
  },
  {
   "cell_type": "markdown",
   "metadata": {},
   "source": [
    "\n",
    "    as a side note, the same result can be obtained just using list comprehensions\n"
   ]
  },
  {
   "cell_type": "code",
   "execution_count": 515,
   "metadata": {},
   "outputs": [
    {
     "name": "stdout",
     "output_type": "stream",
     "text": [
      "[('Bitcoin', 'BTC', 26.99),\n",
      " ('Ethereum', 'ETH', 1.0),\n",
      " ('Tether', 'USDT', 0.0006),\n",
      " ('XRP', 'XRP', 0.0003),\n",
      " ('Cardano', 'ADA', 0.0005),\n",
      " ('Polkadot', 'DOT', 0.015),\n",
      " ('Litecoin', 'LTC', 0.1188),\n",
      " ('Chainlink', 'LINK', 0.0184),\n",
      " ('Bitcoin Cash', 'BCH', 0.4014),\n",
      " ('Stellar', 'XLM', 0.0003)]\n"
     ]
    }
   ],
   "source": [
    "pprint([ (x.name, x.symbol, round(x.price/eth_value,4)) for x in cryptos if x.price_date=='14-02-2021'])"
   ]
  },
  {
   "cell_type": "markdown",
   "metadata": {},
   "source": [
    "\n",
    "    so probably this is one contrived example where we don't need to use map and filter :-)\n",
    "    \n",
    "    And, we finally get to the last point, the reduce function!\n",
    "    \n",
    "## The reduce() Function\n",
    "___\n",
    "\n",
    "(Taken from Real Python:)\n",
    "\n",
    "Python's reduce operates over an iterable object and performs the following steps:\n",
    "\n",
    "   >1- **Apply** a function to the first two items in an iterable and generate a partial result\n",
    "   >\n",
    "   >2- **Use** that partial result, together with the third item in the iterable, to generate another partial result\n",
    "   >\n",
    "   >3- **Repeat** the process until the iterable is exhausted and then return a single cumulative value\n",
    "\n",
    "What does it mean????\n",
    "\n",
    "    let's first use filter and map in order to get a reduced set of columns with the portfolio value of each crypto currency (coin value * number of coins in portfolio)\n",
    "\n",
    "   "
   ]
  },
  {
   "cell_type": "code",
   "execution_count": 520,
   "metadata": {},
   "outputs": [
    {
     "name": "stdout",
     "output_type": "stream",
     "text": [
      "({'symbol': 'BTC', 'value': 97434},\n",
      " {'symbol': 'ETH', 'value': 18050},\n",
      " {'symbol': 'USDT', 'value': 2.0},\n",
      " {'symbol': 'XRP', 'value': 178.26},\n",
      " {'symbol': 'ADA', 'value': 195.9804},\n",
      " {'symbol': 'DOT', 'value': 569.1},\n",
      " {'symbol': 'LTC', 'value': 428.86},\n",
      " {'symbol': 'LINK', 'value': 1098.57},\n",
      " {'symbol': 'BCH', 'value': 724.6},\n",
      " {'symbol': 'XLM', 'value': 51.76})\n"
     ]
    }
   ],
   "source": [
    "crypto_value =tuple(map(lambda x:{'value':x.price*x.portfolio, 'symbol':x.symbol}, filter(lambda x:x.price_date=='14-02-2021',cryptos)))\n",
    "\n",
    "pprint(crypto_value)"
   ]
  },
  {
   "cell_type": "markdown",
   "metadata": {},
   "source": [
    "\n",
    "    then, lets create that convoluted reduce function\n"
   ]
  },
  {
   "cell_type": "code",
   "execution_count": 528,
   "metadata": {},
   "outputs": [
    {
     "name": "stdout",
     "output_type": "stream",
     "text": [
      "portfolio value on Feb 14, 2021 is $118,733.13\n"
     ]
    }
   ],
   "source": [
    "\n",
    "from functools import reduce \n",
    "\n",
    "portfolio_value = reduce(\n",
    "                            lambda total, current_value: total + current_value['value'], # reduce operation\n",
    "                            crypto_value, # set over which the reduce operation will be used \n",
    "                             0            # initial value for the accumulator\n",
    "                        )\n",
    "\n",
    "print('portfolio value on Feb 14, 2021 is ${:,.2f}'.format(portfolio_value))"
   ]
  },
  {
   "cell_type": "markdown",
   "metadata": {},
   "source": [
    "\n",
    "    So, as we can see, the map function used this way is nothing else than a sum\n"
   ]
  },
  {
   "cell_type": "code",
   "execution_count": 530,
   "metadata": {},
   "outputs": [
    {
     "name": "stdout",
     "output_type": "stream",
     "text": [
      "portfolio value on Feb 14, 2021 is $118,733.13\n"
     ]
    }
   ],
   "source": [
    "portfolio_value = sum(x['value'] for x in crypto_value)\n",
    "\n",
    "print('portfolio value on Feb 14, 2021 is ${:,.2f}'.format(portfolio_value))"
   ]
  },
  {
   "cell_type": "markdown",
   "metadata": {},
   "source": [
    "\n",
    "    of course, this is a trivial use case. \n",
    "    The reduce function can be used for more complicated applications, like grouping.\n",
    "    \n",
    "    In this example we are going to group the value of the cryptocurrencies by date. For this purpose, let's enrich the data set with a third historical date first\n",
    "    \n",
    "\n",
    "\n"
   ]
  },
  {
   "cell_type": "code",
   "execution_count": 537,
   "metadata": {},
   "outputs": [],
   "source": [
    "cryptos=(\n",
    "    Crypto(price_date='03-05-2020',rank=1,  symbol='BTC', name='Bitcoin',     portfolio=1  ,price=8897.47, altcoin=False),\n",
    "    Crypto(price_date='03-05-2020',rank=2,  symbol='ETH', name='Ethereum',    portfolio=2  ,price=210.93, altcoin=True),\n",
    "    Crypto(price_date='03-05-2020',rank=4,  symbol='USDT',name='Tether',      portfolio=3  ,price=1.00, altcoin=False),\n",
    "    Crypto(price_date='03-05-2020',rank=3,  symbol='XRP', name='XRP',         portfolio=1  ,price=0.2194, altcoin=True),\n",
    "    Crypto(price_date='03-05-2020',rank=7,  symbol='LTC', name='Litecoin',    portfolio=2  ,price=48.23, altcoin=True),\n",
    "    Crypto(price_date='03-05-2020',rank=5,  symbol='BCH', name='Bitcoin Cash',portfolio=3  ,price=254.54, altcoin=True),\n",
    "    Crypto(price_date='03-05-2020',rank=13,  symbol='ADA', name='Cardano',     portfolio=54 ,price=.048, altcoin=True),\n",
    "    Crypto(price_date='03-05-2020',rank=100,  symbol='DOT', name='Polkadot',    portfolio=0  ,price=0, altcoin=True),\n",
    "    Crypto(price_date='03-05-2020',rank=12,  symbol='LINK',name='Chainlink',   portfolio=1  ,price=3.78, altcoin=True),\n",
    "    Crypto(price_date='03-05-2020',rank=11, symbol='XLM', name='Stellar',     portfolio=100,price=0.07311, altcoin=True),\n",
    "    \n",
    "    Crypto(price_date='10-01-2021',rank=1,  symbol='BTC', name='Bitcoin',     portfolio=1  ,price=38356, altcoin=False),\n",
    "    Crypto(price_date='10-01-2021',rank=2,  symbol='ETH', name='Ethereum',    portfolio=2  ,price=1262, altcoin=True),\n",
    "    Crypto(price_date='10-01-2021',rank=3,  symbol='USDT',name='Tether',      portfolio=3  ,price=1.00, altcoin=False),\n",
    "    Crypto(price_date='10-01-2021',rank=4,  symbol='XRP', name='XRP',         portfolio=1  ,price=0.3183, altcoin=True),\n",
    "    Crypto(price_date='10-01-2021',rank=5,  symbol='LTC', name='Litecoin',    portfolio=2  ,price=171.11, altcoin=True),\n",
    "    Crypto(price_date='10-01-2021',rank=6,  symbol='BCH', name='Bitcoin Cash',portfolio=3  ,price=603.60, altcoin=True),\n",
    "    Crypto(price_date='10-01-2021',rank=7,  symbol='ADA', name='Cardano',     portfolio=54 ,price=0.3049, altcoin=True),\n",
    "    Crypto(price_date='10-01-2021',rank=8,  symbol='DOT', name='Polkadot',    portfolio=6  ,price=9.31, altcoin=True),\n",
    "    Crypto(price_date='10-01-2021',rank=9,  symbol='LINK',name='Chainlink',   portfolio=1  ,price=16.25, altcoin=True),\n",
    "    Crypto(price_date='10-01-2021',rank=10, symbol='XLM', name='Stellar',     portfolio=100,price=0.2887, altcoin=True),\n",
    "    Crypto(price_date='14-02-2021',rank=1,  symbol='BTC', name='Bitcoin',     portfolio=2  ,price=48717, altcoin=False),\n",
    "    Crypto(price_date='14-02-2021',rank=2,  symbol='ETH', name='Ethereum',    portfolio=10  ,price=1805, altcoin=True),\n",
    "    Crypto(price_date='14-02-2021',rank=3,  symbol='USDT',name='Tether',      portfolio=2   ,price=1.00, altcoin=False),\n",
    "    Crypto(price_date='14-02-2021',rank=4,  symbol='XRP', name='XRP',         portfolio=300 ,price=0.5942, altcoin=True),\n",
    "    Crypto(price_date='14-02-2021',rank=5,  symbol='ADA', name='Cardano',     portfolio=231 ,price=0.8484, altcoin=True),\n",
    "    Crypto(price_date='14-02-2021',rank=6,  symbol='DOT', name='Polkadot',    portfolio=21  ,price=27.10, altcoin=True),\n",
    "    Crypto(price_date='14-02-2021',rank=8,  symbol='LTC', name='Litecoin',    portfolio=2   ,price=214.43, altcoin=True),\n",
    "    Crypto(price_date='14-02-2021',rank=9,  symbol='LINK',name='Chainlink',   portfolio=33  ,price=33.29, altcoin=True),\n",
    "    Crypto(price_date='14-02-2021',rank=10, symbol='BCH', name='Bitcoin Cash',portfolio=1   ,price=724.60, altcoin=True),\n",
    "    Crypto(price_date='14-02-2021',rank=11, symbol='XLM', name='Stellar',     portfolio=100 ,price=0.5176, altcoin=True)\n",
    ")"
   ]
  },
  {
   "cell_type": "markdown",
   "metadata": {},
   "source": [
    "    \n",
    "    Then we create the groups, using a reducer function \n",
    "    "
   ]
  },
  {
   "cell_type": "code",
   "execution_count": 538,
   "metadata": {},
   "outputs": [],
   "source": [
    "\n",
    "def reducer(acc, val):\n",
    "    acc[val.symbol].append(val.price)\n",
    "    return acc\n",
    "\n",
    "\n",
    "crypto_by_date = reduce(\n",
    "    reducer,\n",
    "    cryptos,\n",
    "    {'BTC':[],'ETH':[],'USDT':[],'XRP':[],'ADA':[],'DOT':[],'LTC':[],'LINK':[],'BCH':[],'XLM':[]}\n",
    ")\n"
   ]
  },
  {
   "cell_type": "code",
   "execution_count": 540,
   "metadata": {},
   "outputs": [
    {
     "name": "stdout",
     "output_type": "stream",
     "text": [
      "{'ADA': [0.048, 0.3049, 0.8484],\n",
      " 'BCH': [254.54, 603.6, 724.6],\n",
      " 'BTC': [8897.47, 38356, 48717],\n",
      " 'DOT': [0, 9.31, 27.1],\n",
      " 'ETH': [210.93, 1262, 1805],\n",
      " 'LINK': [3.78, 16.25, 33.29],\n",
      " 'LTC': [48.23, 171.11, 214.43],\n",
      " 'USDT': [1.0, 1.0, 1.0],\n",
      " 'XLM': [0.07311, 0.2887, 0.5176],\n",
      " 'XRP': [0.2194, 0.3183, 0.5942]}\n"
     ]
    }
   ],
   "source": [
    "pprint(crypto_by_date)"
   ]
  },
  {
   "cell_type": "markdown",
   "metadata": {},
   "source": [
    "\n",
    "---\n"
   ]
  },
  {
   "cell_type": "markdown",
   "metadata": {},
   "source": [
    "## (In) conclusion\n",
    "\n",
    "Functional programming seems to be a fun approach using python!\n",
    "\n",
    "(AMG - 2021)"
   ]
  },
  {
   "cell_type": "code",
   "execution_count": null,
   "metadata": {},
   "outputs": [],
   "source": []
  }
 ],
 "metadata": {
  "kernelspec": {
   "display_name": "Python 3",
   "language": "python",
   "name": "python3"
  },
  "language_info": {
   "codemirror_mode": {
    "name": "ipython",
    "version": 3
   },
   "file_extension": ".py",
   "mimetype": "text/x-python",
   "name": "python",
   "nbconvert_exporter": "python",
   "pygments_lexer": "ipython3",
   "version": "3.7.4"
  }
 },
 "nbformat": 4,
 "nbformat_minor": 4
}
